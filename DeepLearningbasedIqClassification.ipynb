{
  "nbformat": 4,
  "nbformat_minor": 0,
  "metadata": {
    "kernelspec": {
      "display_name": "Python 3",
      "language": "python",
      "name": "python3"
    },
    "language_info": {
      "codemirror_mode": {
        "name": "ipython",
        "version": 3
      },
      "file_extension": ".py",
      "mimetype": "text/x-python",
      "name": "python",
      "nbconvert_exporter": "python",
      "pygments_lexer": "ipython3",
      "version": "3.6.8"
    },
    "colab": {
      "name": "DeepLearningbasedIqClassification.ipynb",
      "provenance": [],
      "collapsed_sections": []
    }
  },
  "cells": [
    {
      "cell_type": "code",
      "metadata": {
        "id": "YbzC6pXI1iQh",
        "outputId": "1eac2fa8-55db-4030-8f87-d7f0f2869fa1",
        "colab": {
          "base_uri": "https://localhost:8080/"
        }
      },
      "source": [
        "import tensorflow as tf\n",
        "import numpy as np\n",
        "from tensorflow.keras import utils as np_utils\n",
        "from keras.utils import to_categorical\n",
        "print('Using TensorFlow version', tf.__version__)"
      ],
      "execution_count": 1,
      "outputs": [
        {
          "output_type": "stream",
          "text": [
            "Using TensorFlow version 2.3.0\n"
          ],
          "name": "stdout"
        }
      ]
    },
    {
      "cell_type": "code",
      "metadata": {
        "id": "STaddulr1iQl"
      },
      "source": [
        "import pandas as pd \n",
        "import io\n",
        "\n",
        "url_train = 'https://raw.githubusercontent.com/bondadakumarsai/DeeplearningbasedIQClassification/master/IQ_samples/trainDataLabels.csv'\n",
        "url_test = 'https://raw.githubusercontent.com/bondadakumarsai/DeeplearningbasedIQClassification/master/IQ_samples/testData.csv'"
      ],
      "execution_count": 2,
      "outputs": []
    },
    {
      "cell_type": "code",
      "metadata": {
        "id": "zvF5TWyjG5lz"
      },
      "source": [
        "df_train = pd.read_csv(url_train)\n",
        "df_test  = pd.read_csv(url_test)"
      ],
      "execution_count": 3,
      "outputs": []
    },
    {
      "cell_type": "code",
      "metadata": {
        "id": "ir4q2I25oIFI"
      },
      "source": [
        "df_train['Input'] = df_train['Input'].str.replace('i','j').apply(lambda x: np.complex(x))\n",
        "data = df_train.values\n",
        "X_train = data[:,1]\n",
        "X_train = X_train.reshape(len(X_train),1)\n",
        "Y_train = data[:,2].real.reshape(len(X_train),1)\n",
        "#print(X_train[0:5])\n",
        "#print(Y_train[0:5])\n",
        "#print(X_train.shape)\n",
        "#print(Y_train.shape)\n",
        "\n"
      ],
      "execution_count": 4,
      "outputs": []
    },
    {
      "cell_type": "code",
      "metadata": {
        "id": "8pzLbnURoNEu",
        "outputId": "66dcd885-5aee-4413-f241-c2090914d349",
        "colab": {
          "base_uri": "https://localhost:8080/"
        }
      },
      "source": [
        "df_test['Input'] = df_test['Input'].str.replace('i','j').apply(lambda x: np.complex(x))\n",
        "data = df_test.values\n",
        "X_test = data[:,1]\n",
        "X_test = X_test.reshape(len(X_test),1)\n",
        "print(X_test.shape)"
      ],
      "execution_count": 5,
      "outputs": [
        {
          "output_type": "stream",
          "text": [
            "(10000, 1)\n"
          ],
          "name": "stdout"
        }
      ]
    },
    {
      "cell_type": "code",
      "metadata": {
        "id": "_jzX6AAB1iQz",
        "outputId": "b8caab5c-2be1-4f05-838c-0f9cbf5e7f35",
        "colab": {
          "base_uri": "https://localhost:8080/"
        }
      },
      "source": [
        "y_train_encoded = to_categorical(Y_train)\n",
        "print('y_train shape: ', y_train_encoded.shape)\n"
      ],
      "execution_count": 6,
      "outputs": [
        {
          "output_type": "stream",
          "text": [
            "y_train shape:  (20000, 4)\n"
          ],
          "name": "stdout"
        }
      ]
    },
    {
      "cell_type": "code",
      "metadata": {
        "id": "trmu13cY1iQ5",
        "outputId": "176595d7-673d-44fb-808a-b4e3ff0d097a",
        "colab": {
          "base_uri": "https://localhost:8080/"
        }
      },
      "source": [
        "y_train_encoded[:2]"
      ],
      "execution_count": 7,
      "outputs": [
        {
          "output_type": "execute_result",
          "data": {
            "text/plain": [
              "array([[0., 1., 0., 0.],\n",
              "       [0., 0., 1., 0.]], dtype=float32)"
            ]
          },
          "metadata": {
            "tags": []
          },
          "execution_count": 7
        }
      ]
    },
    {
      "cell_type": "code",
      "metadata": {
        "id": "9QEqBOgX1iQ8",
        "outputId": "6694d70e-2edb-4eda-933a-eda35446de48",
        "colab": {
          "base_uri": "https://localhost:8080/"
        }
      },
      "source": [
        "\n",
        "#x_train_reshaped = np.reshape(X_train, (20000, 1))\n",
        "x = abs(X_train)\n",
        "x_phase = np.angle(X_train)\n",
        "x_input = np.concatenate((x, x_phase, x**2, x_phase**2 ,x**4, x_phase**4, x**6, x_phase**6, x**8, x_phase**8),axis=1)\n",
        "\n",
        "x = abs(X_test)\n",
        "x_phase = np.angle(X_test)\n",
        "x_input_test = np.concatenate((x, x_phase, x**2, x_phase**2 ,x**4, x_phase**4, x**6, x_phase**6, x**8, x_phase**8),axis=1)\n",
        "\n",
        "print('x: ', x_input)"
      ],
      "execution_count": 8,
      "outputs": [
        {
          "output_type": "stream",
          "text": [
            "x:  [[ 1.02095667e+00  2.44247384e+00  1.04235252e+00 ...  2.12314435e+02\n",
            "   1.18047961e+00  1.26659965e+03]\n",
            " [ 1.08718317e+00  1.90564799e+00  1.18196724e+00 ...  4.78912407e+01\n",
            "   1.95173907e+00  1.73916766e+02]\n",
            " [ 5.02102051e-01  7.04897719e-01  2.52106469e-01 ...  1.22675159e-01\n",
            "   4.03957765e-03  6.09549307e-02]\n",
            " ...\n",
            " [ 1.36096803e+00  2.36468943e+00  1.85223398e+00 ...  1.74841553e+02\n",
            "   1.17701877e+01  9.77671316e+02]\n",
            " [ 9.96447061e-01 -2.33123428e+00  9.92906746e-01 ...  1.60514963e+02\n",
            "   9.71927443e-01  8.72343170e+02]\n",
            " [ 8.10456060e-01  2.77833792e+00  6.56839026e-01 ...  4.59949758e+02\n",
            "   1.86138321e-01  3.55042650e+03]]\n"
          ],
          "name": "stdout"
        }
      ]
    },
    {
      "cell_type": "code",
      "metadata": {
        "id": "3Yf4qZ9Q1iQ_",
        "outputId": "6e212156-21c8-4cb1-d94c-4550f35f5dc2",
        "colab": {
          "base_uri": "https://localhost:8080/"
        }
      },
      "source": [
        "print(x_input)"
      ],
      "execution_count": 9,
      "outputs": [
        {
          "output_type": "stream",
          "text": [
            "[[ 1.02095667e+00  2.44247384e+00  1.04235252e+00 ...  2.12314435e+02\n",
            "   1.18047961e+00  1.26659965e+03]\n",
            " [ 1.08718317e+00  1.90564799e+00  1.18196724e+00 ...  4.78912407e+01\n",
            "   1.95173907e+00  1.73916766e+02]\n",
            " [ 5.02102051e-01  7.04897719e-01  2.52106469e-01 ...  1.22675159e-01\n",
            "   4.03957765e-03  6.09549307e-02]\n",
            " ...\n",
            " [ 1.36096803e+00  2.36468943e+00  1.85223398e+00 ...  1.74841553e+02\n",
            "   1.17701877e+01  9.77671316e+02]\n",
            " [ 9.96447061e-01 -2.33123428e+00  9.92906746e-01 ...  1.60514963e+02\n",
            "   9.71927443e-01  8.72343170e+02]\n",
            " [ 8.10456060e-01  2.77833792e+00  6.56839026e-01 ...  4.59949758e+02\n",
            "   1.86138321e-01  3.55042650e+03]]\n"
          ],
          "name": "stdout"
        }
      ]
    },
    {
      "cell_type": "code",
      "metadata": {
        "id": "6l61EXQp1iRC"
      },
      "source": [
        "x_mean = np.mean(x_input,axis=0)#reshape(x_input.shape[1],1)\n",
        "x_mean = x_mean.reshape(1,x_input.shape[1])\n",
        "x_std = np.std(x_input,axis =0)\n",
        "x_std = x_std.reshape(1, x_input.shape[1])"
      ],
      "execution_count": 10,
      "outputs": []
    },
    {
      "cell_type": "code",
      "metadata": {
        "id": "b_Q6EBuuHDMz"
      },
      "source": [
        "x_mean_test = np.mean(x_input_test,axis=0)#reshape(x_input.shape[1],1)\n",
        "x_mean_test = x_mean.reshape(1,x_input_test.shape[1])\n",
        "x_std_test = np.std(x_input,axis =0)\n",
        "x_std_test = x_std.reshape(1, x_input_test.shape[1])"
      ],
      "execution_count": 11,
      "outputs": []
    },
    {
      "cell_type": "code",
      "metadata": {
        "id": "zII9ViG7HHju",
        "outputId": "9b2ee399-1d4d-4f7c-c176-096383d8744b",
        "colab": {
          "base_uri": "https://localhost:8080/"
        }
      },
      "source": [
        "print('mean: ', x_mean.shape)\n",
        "print('std: ', x_std.shape)"
      ],
      "execution_count": 12,
      "outputs": [
        {
          "output_type": "stream",
          "text": [
            "mean:  (1, 10)\n",
            "std:  (1, 10)\n"
          ],
          "name": "stdout"
        }
      ]
    },
    {
      "cell_type": "code",
      "metadata": {
        "id": "QVURyqwY1iRF"
      },
      "source": [
        "epsilon = 1e-10\n",
        "x_train_norm = (x_input - x_mean)/(x_std + epsilon)\n",
        "x_test_norm = (x_input_test - x_mean_test)/(x_std_test + epsilon)"
      ],
      "execution_count": 13,
      "outputs": []
    },
    {
      "cell_type": "code",
      "metadata": {
        "id": "lCiZyVDS1iRH",
        "outputId": "dae4e8b8-e898-4d0b-e880-cf3926b7e2a2",
        "colab": {
          "base_uri": "https://localhost:8080/"
        }
      },
      "source": [
        "print(set(x_train_norm[0]))"
      ],
      "execution_count": 14,
      "outputs": [
        {
          "output_type": "stream",
          "text": [
            "{0.19500166658276846, 1.3592900815397813, -0.16398144827080052, 1.0351476532964838, 0.8822529935513699, -0.27344868811842354, 0.6418932990223964, -0.3028816310034469, 0.40639998470983435, 0.059812939300189195}\n"
          ],
          "name": "stdout"
        }
      ]
    },
    {
      "cell_type": "code",
      "metadata": {
        "id": "WANZG6OIFXlx"
      },
      "source": [
        "from tensorflow.keras.initializers import GlorotNormal\n",
        "initializer = tf.keras.initializers.GlorotNormal(seed=1)\n",
        "\n",
        "from tensorflow.keras.optimizers.schedules import ExponentialDecay\n",
        "\n",
        "#lr_schedule = tf.keras.optimizers.schedules.ExponentialDecay(\n",
        "#    initial_learning_rate=1e-2,\n",
        "#    decay_steps=10000,\n",
        "#    decay_rate=0.9)\n",
        "#optimizer = tf.keras.optimizers.Adam(learning_rate=lr_schedule)"
      ],
      "execution_count": 15,
      "outputs": []
    },
    {
      "cell_type": "code",
      "metadata": {
        "id": "mmt_lp991iRJ"
      },
      "source": [
        "from tensorflow.keras.models import Sequential\n",
        "from tensorflow.keras.layers import Dense, BatchNormalization, Dropout\n",
        "\n",
        "model = Sequential([\n",
        "    Dense(512, activation = 'relu', input_shape = (10,),kernel_initializer=initializer),\n",
        "    Dense(512, activation = 'relu',kernel_initializer=initializer),\n",
        "    Dense(512, activation = 'relu',kernel_initializer=initializer),\n",
        "    Dense(512, activation = 'relu',kernel_initializer=initializer), \n",
        "    Dense(512, activation = 'relu',kernel_initializer=initializer),\n",
        "    Dense(512, activation = 'relu',kernel_initializer=initializer), \n",
        "    Dense(512, activation = 'relu',kernel_initializer=initializer),\n",
        "    Dense(512, activation = 'relu',kernel_initializer=initializer),\n",
        "    Dense(512, activation = 'relu',kernel_initializer=initializer), \n",
        "    Dense(512, activation = 'relu',kernel_initializer=initializer),\n",
        "    Dense(4, activation = 'softmax',kernel_initializer=initializer)\n",
        "])"
      ],
      "execution_count": 16,
      "outputs": []
    },
    {
      "cell_type": "code",
      "metadata": {
        "id": "Phv7DwQK1iRM",
        "outputId": "6e54e638-1db3-46cb-f3c3-4a7cae6cf075",
        "colab": {
          "base_uri": "https://localhost:8080/"
        }
      },
      "source": [
        "model.compile(\n",
        "    optimizer = 'adam',\n",
        "    loss = 'categorical_crossentropy',\n",
        "    metrics = ['accuracy']\n",
        ")\n",
        "\n",
        "model.summary()"
      ],
      "execution_count": 17,
      "outputs": [
        {
          "output_type": "stream",
          "text": [
            "Model: \"sequential\"\n",
            "_________________________________________________________________\n",
            "Layer (type)                 Output Shape              Param #   \n",
            "=================================================================\n",
            "dense (Dense)                (None, 512)               5632      \n",
            "_________________________________________________________________\n",
            "dense_1 (Dense)              (None, 512)               262656    \n",
            "_________________________________________________________________\n",
            "dense_2 (Dense)              (None, 512)               262656    \n",
            "_________________________________________________________________\n",
            "dense_3 (Dense)              (None, 512)               262656    \n",
            "_________________________________________________________________\n",
            "dense_4 (Dense)              (None, 512)               262656    \n",
            "_________________________________________________________________\n",
            "dense_5 (Dense)              (None, 512)               262656    \n",
            "_________________________________________________________________\n",
            "dense_6 (Dense)              (None, 512)               262656    \n",
            "_________________________________________________________________\n",
            "dense_7 (Dense)              (None, 512)               262656    \n",
            "_________________________________________________________________\n",
            "dense_8 (Dense)              (None, 512)               262656    \n",
            "_________________________________________________________________\n",
            "dense_9 (Dense)              (None, 512)               262656    \n",
            "_________________________________________________________________\n",
            "dense_10 (Dense)             (None, 4)                 2052      \n",
            "=================================================================\n",
            "Total params: 2,371,588\n",
            "Trainable params: 2,371,588\n",
            "Non-trainable params: 0\n",
            "_________________________________________________________________\n"
          ],
          "name": "stdout"
        }
      ]
    },
    {
      "cell_type": "code",
      "metadata": {
        "id": "wwsZAVPd1iRP",
        "outputId": "ab11ddcf-43f8-47a5-8dce-36af5110066a",
        "colab": {
          "base_uri": "https://localhost:8080/"
        }
      },
      "source": [
        "h = model.fit(\n",
        "    x_train_norm,\n",
        "    y_train_encoded,\n",
        "    batch_size = 1024,\n",
        "    epochs = 50\n",
        ")"
      ],
      "execution_count": 18,
      "outputs": [
        {
          "output_type": "stream",
          "text": [
            "Epoch 1/50\n",
            "20/20 [==============================] - 5s 248ms/step - loss: 1.0196 - accuracy: 0.4300\n",
            "Epoch 2/50\n",
            "20/20 [==============================] - 5s 248ms/step - loss: 0.7248 - accuracy: 0.6061\n",
            "Epoch 3/50\n",
            "20/20 [==============================] - 5s 249ms/step - loss: 0.6523 - accuracy: 0.6179\n",
            "Epoch 4/50\n",
            "20/20 [==============================] - 5s 248ms/step - loss: 0.5348 - accuracy: 0.7168\n",
            "Epoch 5/50\n",
            "20/20 [==============================] - 5s 248ms/step - loss: 0.4699 - accuracy: 0.7890\n",
            "Epoch 6/50\n",
            "20/20 [==============================] - 5s 248ms/step - loss: 0.4327 - accuracy: 0.8198\n",
            "Epoch 7/50\n",
            "20/20 [==============================] - 5s 246ms/step - loss: 0.3915 - accuracy: 0.8383\n",
            "Epoch 8/50\n",
            "20/20 [==============================] - 5s 247ms/step - loss: 0.3692 - accuracy: 0.8497\n",
            "Epoch 9/50\n",
            "20/20 [==============================] - 5s 245ms/step - loss: 0.3672 - accuracy: 0.8504\n",
            "Epoch 10/50\n",
            "20/20 [==============================] - 5s 250ms/step - loss: 0.3696 - accuracy: 0.8464\n",
            "Epoch 11/50\n",
            "20/20 [==============================] - 5s 251ms/step - loss: 0.3459 - accuracy: 0.8612\n",
            "Epoch 12/50\n",
            "20/20 [==============================] - 5s 250ms/step - loss: 0.3283 - accuracy: 0.8690\n",
            "Epoch 13/50\n",
            "20/20 [==============================] - 5s 251ms/step - loss: 0.3438 - accuracy: 0.8621\n",
            "Epoch 14/50\n",
            "20/20 [==============================] - 5s 257ms/step - loss: 0.3345 - accuracy: 0.8648\n",
            "Epoch 15/50\n",
            "20/20 [==============================] - 5s 253ms/step - loss: 0.3272 - accuracy: 0.8709\n",
            "Epoch 16/50\n",
            "20/20 [==============================] - 5s 250ms/step - loss: 0.3288 - accuracy: 0.8705\n",
            "Epoch 17/50\n",
            "20/20 [==============================] - 5s 249ms/step - loss: 0.3261 - accuracy: 0.8688\n",
            "Epoch 18/50\n",
            "20/20 [==============================] - 5s 251ms/step - loss: 0.3231 - accuracy: 0.8744\n",
            "Epoch 19/50\n",
            "20/20 [==============================] - 5s 248ms/step - loss: 0.3163 - accuracy: 0.8756\n",
            "Epoch 20/50\n",
            "20/20 [==============================] - 5s 244ms/step - loss: 0.3158 - accuracy: 0.8756\n",
            "Epoch 21/50\n",
            "20/20 [==============================] - 5s 247ms/step - loss: 0.3146 - accuracy: 0.8755\n",
            "Epoch 22/50\n",
            "20/20 [==============================] - 5s 251ms/step - loss: 0.3214 - accuracy: 0.8735\n",
            "Epoch 23/50\n",
            "20/20 [==============================] - 5s 247ms/step - loss: 0.3123 - accuracy: 0.8780\n",
            "Epoch 24/50\n",
            "20/20 [==============================] - 5s 248ms/step - loss: 0.3167 - accuracy: 0.8753\n",
            "Epoch 25/50\n",
            "20/20 [==============================] - 5s 246ms/step - loss: 0.3075 - accuracy: 0.8771\n",
            "Epoch 26/50\n",
            "20/20 [==============================] - 5s 250ms/step - loss: 0.3130 - accuracy: 0.8753\n",
            "Epoch 27/50\n",
            "20/20 [==============================] - 5s 252ms/step - loss: 0.3219 - accuracy: 0.8690\n",
            "Epoch 28/50\n",
            "20/20 [==============================] - 5s 254ms/step - loss: 0.3102 - accuracy: 0.8784\n",
            "Epoch 29/50\n",
            "20/20 [==============================] - 5s 254ms/step - loss: 0.3159 - accuracy: 0.8763\n",
            "Epoch 30/50\n",
            "20/20 [==============================] - 5s 253ms/step - loss: 0.3052 - accuracy: 0.8810\n",
            "Epoch 31/50\n",
            "20/20 [==============================] - 5s 253ms/step - loss: 0.3053 - accuracy: 0.8806\n",
            "Epoch 32/50\n",
            "20/20 [==============================] - 5s 267ms/step - loss: 0.3016 - accuracy: 0.8806\n",
            "Epoch 33/50\n",
            "20/20 [==============================] - 5s 271ms/step - loss: 0.3016 - accuracy: 0.8813\n",
            "Epoch 34/50\n",
            "20/20 [==============================] - 5s 250ms/step - loss: 0.3015 - accuracy: 0.8819\n",
            "Epoch 35/50\n",
            "20/20 [==============================] - 5s 248ms/step - loss: 0.3036 - accuracy: 0.8789\n",
            "Epoch 36/50\n",
            "20/20 [==============================] - 5s 248ms/step - loss: 0.3047 - accuracy: 0.8795\n",
            "Epoch 37/50\n",
            "20/20 [==============================] - 5s 245ms/step - loss: 0.2998 - accuracy: 0.8808\n",
            "Epoch 38/50\n",
            "20/20 [==============================] - 5s 254ms/step - loss: 0.3039 - accuracy: 0.8820\n",
            "Epoch 39/50\n",
            "20/20 [==============================] - 5s 247ms/step - loss: 0.2996 - accuracy: 0.8834\n",
            "Epoch 40/50\n",
            "20/20 [==============================] - 5s 246ms/step - loss: 0.3080 - accuracy: 0.8765\n",
            "Epoch 41/50\n",
            "20/20 [==============================] - 5s 247ms/step - loss: 0.3020 - accuracy: 0.8809\n",
            "Epoch 42/50\n",
            "20/20 [==============================] - 5s 246ms/step - loss: 0.3038 - accuracy: 0.8781\n",
            "Epoch 43/50\n",
            "20/20 [==============================] - 5s 246ms/step - loss: 0.3055 - accuracy: 0.8784\n",
            "Epoch 44/50\n",
            "20/20 [==============================] - 5s 245ms/step - loss: 0.3008 - accuracy: 0.8809\n",
            "Epoch 45/50\n",
            "20/20 [==============================] - 5s 247ms/step - loss: 0.2971 - accuracy: 0.8834\n",
            "Epoch 46/50\n",
            "20/20 [==============================] - 5s 247ms/step - loss: 0.3020 - accuracy: 0.8808\n",
            "Epoch 47/50\n",
            "20/20 [==============================] - 5s 248ms/step - loss: 0.2983 - accuracy: 0.8822\n",
            "Epoch 48/50\n",
            "20/20 [==============================] - 5s 246ms/step - loss: 0.2910 - accuracy: 0.8853\n",
            "Epoch 49/50\n",
            "20/20 [==============================] - 5s 248ms/step - loss: 0.2978 - accuracy: 0.8829\n",
            "Epoch 50/50\n",
            "20/20 [==============================] - 5s 250ms/step - loss: 0.3030 - accuracy: 0.8790\n"
          ],
          "name": "stdout"
        }
      ]
    },
    {
      "cell_type": "code",
      "metadata": {
        "id": "Bnsp022V1iRR",
        "outputId": "c502f83a-7ad6-4eaf-c3c8-411caf9302e4",
        "colab": {
          "base_uri": "https://localhost:8080/"
        }
      },
      "source": [
        "loss, accuracy = model.evaluate(x_test_norm)\n",
        "\n",
        "print('test set accuracy: ', accuracy * 100)"
      ],
      "execution_count": 19,
      "outputs": [
        {
          "output_type": "stream",
          "text": [
            "313/313 [==============================] - 0s 669us/step - loss: 0.0000e+00 - accuracy: 0.0000e+00\n",
            "test set accuracy:  0.0\n"
          ],
          "name": "stdout"
        }
      ]
    },
    {
      "cell_type": "code",
      "metadata": {
        "id": "iq2LrOSG1iRT"
      },
      "source": [
        "preds = model.predict(x_test_norm)\n",
        "pred = np.argmax(preds,axis = 1).reshape(10000,1)\n",
        "id = np.arange(1,10001).reshape(10000,1)\n",
        "prediction = np.concatenate((id, pred),axis=1)\n",
        "\n",
        "import csv   \n",
        "      \n",
        "# field names   \n",
        "fields = ['Id', 'Predicted Label']  \n",
        "\n",
        "filename = \"submission.csv\"\n",
        "      \n",
        "# writing to csv file   \n",
        "with open(filename, 'w') as csvfile:   \n",
        "    # creating a csv writer object   \n",
        "    csvwriter = csv.writer(csvfile)   \n",
        "          \n",
        "    # writing the fields   \n",
        "    csvwriter.writerow(fields)   \n",
        "          \n",
        "    # writing the data rows   \n",
        "    csvwriter.writerows(prediction) "
      ],
      "execution_count": 20,
      "outputs": []
    },
    {
      "cell_type": "code",
      "metadata": {
        "id": "VigfVFDsBrvm"
      },
      "source": [
        ""
      ],
      "execution_count": 20,
      "outputs": []
    }
  ]
}