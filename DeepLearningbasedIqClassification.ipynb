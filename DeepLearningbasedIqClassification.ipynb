{
  "nbformat": 4,
  "nbformat_minor": 0,
  "metadata": {
    "kernelspec": {
      "display_name": "Python 3",
      "language": "python",
      "name": "python3"
    },
    "language_info": {
      "codemirror_mode": {
        "name": "ipython",
        "version": 3
      },
      "file_extension": ".py",
      "mimetype": "text/x-python",
      "name": "python",
      "nbconvert_exporter": "python",
      "pygments_lexer": "ipython3",
      "version": "3.6.8"
    },
    "colab": {
      "name": "DeepLearningbasedIqClassification.ipynb",
      "provenance": [],
      "collapsed_sections": [],
      "toc_visible": true
    }
  },
  "cells": [
    {
      "cell_type": "code",
      "metadata": {
        "id": "YbzC6pXI1iQh",
        "colab_type": "code",
        "colab": {
          "base_uri": "https://localhost:8080/",
          "height": 34
        },
        "outputId": "e6a8dd0b-9ae3-4b98-c9be-8339c5fbabe0"
      },
      "source": [
        "import tensorflow as tf\n",
        "import numpy as np\n",
        "from tensorflow.keras import utils as np_utils\n",
        "from keras.utils import to_categorical\n",
        "print('Using TensorFlow version', tf.__version__)"
      ],
      "execution_count": null,
      "outputs": [
        {
          "output_type": "stream",
          "text": [
            "Using TensorFlow version 2.3.0\n"
          ],
          "name": "stdout"
        }
      ]
    },
    {
      "cell_type": "code",
      "metadata": {
        "id": "STaddulr1iQl",
        "colab_type": "code",
        "colab": {
          "base_uri": "https://localhost:8080/",
          "height": 245
        },
        "outputId": "2c545dc1-5c31-4667-f45e-4c021ca2b211"
      },
      "source": [
        "import pandas as pd \n",
        "import io\n",
        "\n",
        "url_train = 'https://raw.githubusercontent.com/bondadakumarsai/DeeplearningbasedIQClassification/master/IQ_samples/trainDataLabels.csv'\n",
        "url_test = 'https://raw.githubusercontent.com/bondadakumarsai/DeeplearningbasedIQClassification/master/IQ_samples/testData.csv'\n",
        "df_train = pd.read_csv(url_train)\n",
        "df_test  = pd.read_csv(url_test)\n",
        "\n",
        "df_train['Input'] = df_train['Input'].str.replace('i','j').apply(lambda x: np.complex(x))\n",
        "#df['Label'] = df['Label']\n",
        "data = df_train.values\n",
        "X_train = data[:,1]\n",
        "X_train = X_train.reshape(len(X_train),1)\n",
        "Y_train = data[:,2].real.reshape(len(X_train),1)\n",
        "print(X_train[0:5])\n",
        "print(Y_train[0:5])\n",
        "print(X_train.shape)\n",
        "print(Y_train.shape)\n",
        "\n",
        "df_test['Input'] = df_test['Input'].str.replace('i','j').apply(lambda x: np.complex(x))\n",
        "#df['Label'] = df['Label']\n",
        "data = df_test.values\n",
        "X_test = data[:,1]\n",
        "X_test = X_test.reshape(len(X_test),1)\n",
        "print(X_test.shape)"
      ],
      "execution_count": null,
      "outputs": [
        {
          "output_type": "stream",
          "text": [
            "[[-0.78145+0.65703j]\n",
            " [-0.35728+1.0268j ]\n",
            " [ 0.38244+0.32534j]\n",
            " [-0.95181-0.86482j]\n",
            " [ 0.95482+1.0778j ]]\n",
            "[[1.]\n",
            " [2.]\n",
            " [2.]\n",
            " [2.]\n",
            " [3.]]\n",
            "(20000, 1)\n",
            "(20000, 1)\n",
            "(10000, 1)\n"
          ],
          "name": "stdout"
        }
      ]
    },
    {
      "cell_type": "code",
      "metadata": {
        "id": "_jzX6AAB1iQz",
        "colab_type": "code",
        "colab": {
          "base_uri": "https://localhost:8080/",
          "height": 34
        },
        "outputId": "36c991f3-4b66-43f3-cfb1-1b22e304fcdd"
      },
      "source": [
        "y_train_encoded = to_categorical(Y_train)\n",
        "print('y_train shape: ', y_train_encoded.shape)\n"
      ],
      "execution_count": null,
      "outputs": [
        {
          "output_type": "stream",
          "text": [
            "y_train shape:  (20000, 4)\n"
          ],
          "name": "stdout"
        }
      ]
    },
    {
      "cell_type": "code",
      "metadata": {
        "id": "trmu13cY1iQ5",
        "colab_type": "code",
        "colab": {
          "base_uri": "https://localhost:8080/",
          "height": 52
        },
        "outputId": "8aa21ac8-49d8-441a-8a57-21407f724182"
      },
      "source": [
        "y_train_encoded[:2]"
      ],
      "execution_count": null,
      "outputs": [
        {
          "output_type": "execute_result",
          "data": {
            "text/plain": [
              "array([[0., 1., 0., 0.],\n",
              "       [0., 0., 1., 0.]], dtype=float32)"
            ]
          },
          "metadata": {
            "tags": []
          },
          "execution_count": 9
        }
      ]
    },
    {
      "cell_type": "code",
      "metadata": {
        "id": "9QEqBOgX1iQ8",
        "colab_type": "code",
        "colab": {
          "base_uri": "https://localhost:8080/",
          "height": 245
        },
        "outputId": "8abd72f3-5c44-4c18-96a1-c5a01dd2d345"
      },
      "source": [
        "#x_train_reshaped = np.reshape(X_train, (20000, 1))\n",
        "x = abs(X_train)\n",
        "x_phase = np.angle(X_train)\n",
        "x_input = np.concatenate((x, x_phase,x*x_phase, x**2, x_phase**2,(x *x_phase)**2 ,x**4, x_phase**4, x**6, x_phase**6),axis=1)\n",
        "\n",
        "x = abs(X_test)\n",
        "x_phase = np.angle(X_test)\n",
        "x_input_test = np.concatenate((x, x_phase, x*x_phase, x**2, x_phase**2,(x *x_phase)**2 ,x**4, x_phase**4, x**6, x_phase**6),axis=1)\n",
        "\n",
        "print('x: ', x_input)"
      ],
      "execution_count": null,
      "outputs": [
        {
          "output_type": "stream",
          "text": [
            "x:  [[ 1.02095667e+00  2.44247384e+00  2.49365996e+00 ...  3.55893193e+01\n",
            "   1.13251475e+00  2.12314435e+02]\n",
            " [ 1.08718317e+00  1.90564799e+00  2.07178842e+00 ...  1.31877506e+01\n",
            "   1.65126326e+00  4.78912407e+01]\n",
            " [ 5.02102051e-01  7.04897719e-01  3.53930590e-01 ...  2.46890524e-01\n",
            "   1.60233002e-02  1.22675159e-01]\n",
            " ...\n",
            " [ 1.36096803e+00  2.36468943e+00  3.21826671e+00 ...  3.12677360e+01\n",
            "   6.35459010e+00  1.74841553e+02]\n",
            " [ 9.96447061e-01 -2.33123428e+00 -2.32295155e+00 ...  2.95354562e+01\n",
            "   9.78870823e-01  1.60514963e+02]\n",
            " [ 8.10456060e-01  2.77833792e+00  2.25172080e+00 ...  5.95854554e+01\n",
            "   2.83384991e-01  4.59949758e+02]]\n"
          ],
          "name": "stdout"
        }
      ]
    },
    {
      "cell_type": "code",
      "metadata": {
        "id": "3Yf4qZ9Q1iQ_",
        "colab_type": "code",
        "colab": {
          "base_uri": "https://localhost:8080/",
          "height": 245
        },
        "outputId": "a88422d1-f648-4268-8627-8af3d813118c"
      },
      "source": [
        "print(x_input)"
      ],
      "execution_count": null,
      "outputs": [
        {
          "output_type": "stream",
          "text": [
            "[[ 1.02095667e+00  2.44247384e+00  2.49365996e+00 ...  3.55893193e+01\n",
            "   1.13251475e+00  2.12314435e+02]\n",
            " [ 1.08718317e+00  1.90564799e+00  2.07178842e+00 ...  1.31877506e+01\n",
            "   1.65126326e+00  4.78912407e+01]\n",
            " [ 5.02102051e-01  7.04897719e-01  3.53930590e-01 ...  2.46890524e-01\n",
            "   1.60233002e-02  1.22675159e-01]\n",
            " ...\n",
            " [ 1.36096803e+00  2.36468943e+00  3.21826671e+00 ...  3.12677360e+01\n",
            "   6.35459010e+00  1.74841553e+02]\n",
            " [ 9.96447061e-01 -2.33123428e+00 -2.32295155e+00 ...  2.95354562e+01\n",
            "   9.78870823e-01  1.60514963e+02]\n",
            " [ 8.10456060e-01  2.77833792e+00  2.25172080e+00 ...  5.95854554e+01\n",
            "   2.83384991e-01  4.59949758e+02]]\n"
          ],
          "name": "stdout"
        }
      ]
    },
    {
      "cell_type": "code",
      "metadata": {
        "id": "6l61EXQp1iRC",
        "colab_type": "code",
        "colab": {
          "base_uri": "https://localhost:8080/",
          "height": 52
        },
        "outputId": "4b7d2bbb-6afd-4733-b124-161c983d93fc"
      },
      "source": [
        "x_mean = np.mean(x_input,axis=0)#reshape(x_input.shape[1],1)\n",
        "x_mean = x_mean.reshape(1,x_input.shape[1])\n",
        "x_std = np.std(x_input,axis =0)\n",
        "x_std = x_std.reshape(1, x_input.shape[1])\n",
        "\n",
        "x_mean_test = np.mean(x_input_test,axis=0)#reshape(x_input.shape[1],1)\n",
        "x_mean_test = x_mean.reshape(1,x_input_test.shape[1])\n",
        "x_std_test = np.std(x_input,axis =0)\n",
        "x_std_test = x_std.reshape(1, x_input_test.shape[1])\n",
        "\n",
        "\n",
        "\n",
        "print('mean: ', x_mean.shape)\n",
        "print('std: ', x_std.shape)"
      ],
      "execution_count": null,
      "outputs": [
        {
          "output_type": "stream",
          "text": [
            "mean:  (1, 10)\n",
            "std:  (1, 10)\n"
          ],
          "name": "stdout"
        }
      ]
    },
    {
      "cell_type": "code",
      "metadata": {
        "id": "QVURyqwY1iRF",
        "colab_type": "code",
        "colab": {}
      },
      "source": [
        "epsilon = 1e-10\n",
        "x_train_norm = (x_input - x_mean)/(x_std + epsilon)\n",
        "x_test_norm = (x_input_test - x_mean_test)/(x_std_test + epsilon)\n",
        "\n"
      ],
      "execution_count": null,
      "outputs": []
    },
    {
      "cell_type": "code",
      "metadata": {
        "id": "lCiZyVDS1iRH",
        "colab_type": "code",
        "colab": {
          "base_uri": "https://localhost:8080/",
          "height": 54
        },
        "outputId": "c454f043-f547-4d6a-e449-b6c8a7852347"
      },
      "source": [
        "print(set(x_train_norm[0]))"
      ],
      "execution_count": null,
      "outputs": [
        {
          "output_type": "stream",
          "text": [
            "{0.19500166658276846, 1.3592900815397813, 1.3806497632962795, 1.0351476532964838, 0.896774883400021, -0.16398144827080052, 0.8822529935513699, -0.27344868811842354, 0.6418932990223964, 0.059812939300189195}\n"
          ],
          "name": "stdout"
        }
      ]
    },
    {
      "cell_type": "code",
      "metadata": {
        "id": "WANZG6OIFXlx",
        "colab_type": "code",
        "colab": {}
      },
      "source": [
        "from tensorflow.keras.initializers import GlorotNormal\n",
        "initializer = tf.keras.initializers.GlorotNormal(seed=1)\n",
        "\n",
        "from tensorflow.keras.optimizers.schedules import ExponentialDecay\n",
        "\n",
        "#lr_schedule = tf.keras.optimizers.schedules.ExponentialDecay(\n",
        "#    initial_learning_rate=1e-2,\n",
        "#    decay_steps=10000,\n",
        "#    decay_rate=0.9)\n",
        "#optimizer = tf.keras.optimizers.Adam(learning_rate=lr_schedule)"
      ],
      "execution_count": null,
      "outputs": []
    },
    {
      "cell_type": "code",
      "metadata": {
        "id": "mmt_lp991iRJ",
        "colab_type": "code",
        "colab": {
          "base_uri": "https://localhost:8080/",
          "height": 419
        },
        "outputId": "2eb932c8-5f82-4b88-809d-352e385d00de"
      },
      "source": [
        "from tensorflow.keras.models import Sequential\n",
        "from tensorflow.keras.layers import Dense, BatchNormalization, Dropout\n",
        "\n",
        "model = Sequential([\n",
        "    Dense(512, activation = 'relu', input_shape = (10,),kernel_initializer=initializer),\n",
        "    Dense(512, activation = 'relu',kernel_initializer=initializer),\n",
        "    Dense(512, activation = 'relu',kernel_initializer=initializer),\n",
        "    Dense(512, activation = 'relu',kernel_initializer=initializer), \n",
        "    Dense(512, activation = 'relu',kernel_initializer=initializer),\n",
        "    Dense(512, activation = 'relu',kernel_initializer=initializer), \n",
        "    Dense(512, activation = 'relu',kernel_initializer=initializer),\n",
        "    Dense(512, activation = 'relu',kernel_initializer=initializer),\n",
        "    Dense(512, activation = 'relu',kernel_initializer=initializer), \n",
        "    Dense(512, activation = 'relu',kernel_initializer=initializer),\n",
        "    Dense(4, activation = 'softmax',kernel_initializer=initializer)\n",
        "])"
      ],
      "execution_count": null,
      "outputs": [
        {
          "output_type": "error",
          "ename": "ValueError",
          "evalue": "ignored",
          "traceback": [
            "\u001b[0;31m---------------------------------------------------------------------------\u001b[0m",
            "\u001b[0;31mValueError\u001b[0m                                Traceback (most recent call last)",
            "\u001b[0;32m<ipython-input-44-dd72e5efe255>\u001b[0m in \u001b[0;36m<module>\u001b[0;34m()\u001b[0m\n\u001b[1;32m      3\u001b[0m \u001b[0;34m\u001b[0m\u001b[0m\n\u001b[1;32m      4\u001b[0m model = Sequential([\n\u001b[0;32m----> 5\u001b[0;31m     \u001b[0mDense\u001b[0m\u001b[0;34m(\u001b[0m\u001b[0;36m512\u001b[0m\u001b[0;34m,\u001b[0m \u001b[0mactivation\u001b[0m \u001b[0;34m=\u001b[0m \u001b[0;34m'lrelu'\u001b[0m\u001b[0;34m,\u001b[0m \u001b[0minput_shape\u001b[0m \u001b[0;34m=\u001b[0m \u001b[0;34m(\u001b[0m\u001b[0;36m10\u001b[0m\u001b[0;34m,\u001b[0m\u001b[0;34m)\u001b[0m\u001b[0;34m,\u001b[0m\u001b[0mkernel_initializer\u001b[0m\u001b[0;34m=\u001b[0m\u001b[0minitializer\u001b[0m\u001b[0;34m)\u001b[0m\u001b[0;34m,\u001b[0m\u001b[0;34m\u001b[0m\u001b[0;34m\u001b[0m\u001b[0m\n\u001b[0m\u001b[1;32m      6\u001b[0m     \u001b[0mDense\u001b[0m\u001b[0;34m(\u001b[0m\u001b[0;36m512\u001b[0m\u001b[0;34m,\u001b[0m \u001b[0mactivation\u001b[0m \u001b[0;34m=\u001b[0m \u001b[0;34m'lrelu'\u001b[0m\u001b[0;34m,\u001b[0m\u001b[0mkernel_initializer\u001b[0m\u001b[0;34m=\u001b[0m\u001b[0minitializer\u001b[0m\u001b[0;34m)\u001b[0m\u001b[0;34m,\u001b[0m\u001b[0;34m\u001b[0m\u001b[0;34m\u001b[0m\u001b[0m\n\u001b[1;32m      7\u001b[0m     \u001b[0mDense\u001b[0m\u001b[0;34m(\u001b[0m\u001b[0;36m512\u001b[0m\u001b[0;34m,\u001b[0m \u001b[0mactivation\u001b[0m \u001b[0;34m=\u001b[0m \u001b[0;34m'lrelu'\u001b[0m\u001b[0;34m,\u001b[0m\u001b[0mkernel_initializer\u001b[0m\u001b[0;34m=\u001b[0m\u001b[0minitializer\u001b[0m\u001b[0;34m)\u001b[0m\u001b[0;34m,\u001b[0m\u001b[0;34m\u001b[0m\u001b[0;34m\u001b[0m\u001b[0m\n",
            "\u001b[0;32m/usr/local/lib/python3.6/dist-packages/tensorflow/python/keras/layers/core.py\u001b[0m in \u001b[0;36m__init__\u001b[0;34m(self, units, activation, use_bias, kernel_initializer, bias_initializer, kernel_regularizer, bias_regularizer, activity_regularizer, kernel_constraint, bias_constraint, **kwargs)\u001b[0m\n\u001b[1;32m   1145\u001b[0m \u001b[0;34m\u001b[0m\u001b[0m\n\u001b[1;32m   1146\u001b[0m     \u001b[0mself\u001b[0m\u001b[0;34m.\u001b[0m\u001b[0munits\u001b[0m \u001b[0;34m=\u001b[0m \u001b[0mint\u001b[0m\u001b[0;34m(\u001b[0m\u001b[0munits\u001b[0m\u001b[0;34m)\u001b[0m \u001b[0;32mif\u001b[0m \u001b[0;32mnot\u001b[0m \u001b[0misinstance\u001b[0m\u001b[0;34m(\u001b[0m\u001b[0munits\u001b[0m\u001b[0;34m,\u001b[0m \u001b[0mint\u001b[0m\u001b[0;34m)\u001b[0m \u001b[0;32melse\u001b[0m \u001b[0munits\u001b[0m\u001b[0;34m\u001b[0m\u001b[0;34m\u001b[0m\u001b[0m\n\u001b[0;32m-> 1147\u001b[0;31m     \u001b[0mself\u001b[0m\u001b[0;34m.\u001b[0m\u001b[0mactivation\u001b[0m \u001b[0;34m=\u001b[0m \u001b[0mactivations\u001b[0m\u001b[0;34m.\u001b[0m\u001b[0mget\u001b[0m\u001b[0;34m(\u001b[0m\u001b[0mactivation\u001b[0m\u001b[0;34m)\u001b[0m\u001b[0;34m\u001b[0m\u001b[0;34m\u001b[0m\u001b[0m\n\u001b[0m\u001b[1;32m   1148\u001b[0m     \u001b[0mself\u001b[0m\u001b[0;34m.\u001b[0m\u001b[0muse_bias\u001b[0m \u001b[0;34m=\u001b[0m \u001b[0muse_bias\u001b[0m\u001b[0;34m\u001b[0m\u001b[0;34m\u001b[0m\u001b[0m\n\u001b[1;32m   1149\u001b[0m     \u001b[0mself\u001b[0m\u001b[0;34m.\u001b[0m\u001b[0mkernel_initializer\u001b[0m \u001b[0;34m=\u001b[0m \u001b[0minitializers\u001b[0m\u001b[0;34m.\u001b[0m\u001b[0mget\u001b[0m\u001b[0;34m(\u001b[0m\u001b[0mkernel_initializer\u001b[0m\u001b[0;34m)\u001b[0m\u001b[0;34m\u001b[0m\u001b[0;34m\u001b[0m\u001b[0m\n",
            "\u001b[0;32m/usr/local/lib/python3.6/dist-packages/tensorflow/python/util/dispatch.py\u001b[0m in \u001b[0;36mwrapper\u001b[0;34m(*args, **kwargs)\u001b[0m\n\u001b[1;32m    199\u001b[0m     \u001b[0;34m\"\"\"Call target, and fall back on dispatchers if there is a TypeError.\"\"\"\u001b[0m\u001b[0;34m\u001b[0m\u001b[0;34m\u001b[0m\u001b[0m\n\u001b[1;32m    200\u001b[0m     \u001b[0;32mtry\u001b[0m\u001b[0;34m:\u001b[0m\u001b[0;34m\u001b[0m\u001b[0;34m\u001b[0m\u001b[0m\n\u001b[0;32m--> 201\u001b[0;31m       \u001b[0;32mreturn\u001b[0m \u001b[0mtarget\u001b[0m\u001b[0;34m(\u001b[0m\u001b[0;34m*\u001b[0m\u001b[0margs\u001b[0m\u001b[0;34m,\u001b[0m \u001b[0;34m**\u001b[0m\u001b[0mkwargs\u001b[0m\u001b[0;34m)\u001b[0m\u001b[0;34m\u001b[0m\u001b[0;34m\u001b[0m\u001b[0m\n\u001b[0m\u001b[1;32m    202\u001b[0m     \u001b[0;32mexcept\u001b[0m \u001b[0;34m(\u001b[0m\u001b[0mTypeError\u001b[0m\u001b[0;34m,\u001b[0m \u001b[0mValueError\u001b[0m\u001b[0;34m)\u001b[0m\u001b[0;34m:\u001b[0m\u001b[0;34m\u001b[0m\u001b[0;34m\u001b[0m\u001b[0m\n\u001b[1;32m    203\u001b[0m       \u001b[0;31m# Note: convert_to_eager_tensor currently raises a ValueError, not a\u001b[0m\u001b[0;34m\u001b[0m\u001b[0;34m\u001b[0m\u001b[0;34m\u001b[0m\u001b[0m\n",
            "\u001b[0;32m/usr/local/lib/python3.6/dist-packages/tensorflow/python/keras/activations.py\u001b[0m in \u001b[0;36mget\u001b[0;34m(identifier)\u001b[0m\n\u001b[1;32m    527\u001b[0m   \u001b[0;32mif\u001b[0m \u001b[0misinstance\u001b[0m\u001b[0;34m(\u001b[0m\u001b[0midentifier\u001b[0m\u001b[0;34m,\u001b[0m \u001b[0msix\u001b[0m\u001b[0;34m.\u001b[0m\u001b[0mstring_types\u001b[0m\u001b[0;34m)\u001b[0m\u001b[0;34m:\u001b[0m\u001b[0;34m\u001b[0m\u001b[0;34m\u001b[0m\u001b[0m\n\u001b[1;32m    528\u001b[0m     \u001b[0midentifier\u001b[0m \u001b[0;34m=\u001b[0m \u001b[0mstr\u001b[0m\u001b[0;34m(\u001b[0m\u001b[0midentifier\u001b[0m\u001b[0;34m)\u001b[0m\u001b[0;34m\u001b[0m\u001b[0;34m\u001b[0m\u001b[0m\n\u001b[0;32m--> 529\u001b[0;31m     \u001b[0;32mreturn\u001b[0m \u001b[0mdeserialize\u001b[0m\u001b[0;34m(\u001b[0m\u001b[0midentifier\u001b[0m\u001b[0;34m)\u001b[0m\u001b[0;34m\u001b[0m\u001b[0;34m\u001b[0m\u001b[0m\n\u001b[0m\u001b[1;32m    530\u001b[0m   \u001b[0;32melif\u001b[0m \u001b[0misinstance\u001b[0m\u001b[0;34m(\u001b[0m\u001b[0midentifier\u001b[0m\u001b[0;34m,\u001b[0m \u001b[0mdict\u001b[0m\u001b[0;34m)\u001b[0m\u001b[0;34m:\u001b[0m\u001b[0;34m\u001b[0m\u001b[0;34m\u001b[0m\u001b[0m\n\u001b[1;32m    531\u001b[0m     \u001b[0;32mreturn\u001b[0m \u001b[0mdeserialize\u001b[0m\u001b[0;34m(\u001b[0m\u001b[0midentifier\u001b[0m\u001b[0;34m)\u001b[0m\u001b[0;34m\u001b[0m\u001b[0;34m\u001b[0m\u001b[0m\n",
            "\u001b[0;32m/usr/local/lib/python3.6/dist-packages/tensorflow/python/util/dispatch.py\u001b[0m in \u001b[0;36mwrapper\u001b[0;34m(*args, **kwargs)\u001b[0m\n\u001b[1;32m    199\u001b[0m     \u001b[0;34m\"\"\"Call target, and fall back on dispatchers if there is a TypeError.\"\"\"\u001b[0m\u001b[0;34m\u001b[0m\u001b[0;34m\u001b[0m\u001b[0m\n\u001b[1;32m    200\u001b[0m     \u001b[0;32mtry\u001b[0m\u001b[0;34m:\u001b[0m\u001b[0;34m\u001b[0m\u001b[0;34m\u001b[0m\u001b[0m\n\u001b[0;32m--> 201\u001b[0;31m       \u001b[0;32mreturn\u001b[0m \u001b[0mtarget\u001b[0m\u001b[0;34m(\u001b[0m\u001b[0;34m*\u001b[0m\u001b[0margs\u001b[0m\u001b[0;34m,\u001b[0m \u001b[0;34m**\u001b[0m\u001b[0mkwargs\u001b[0m\u001b[0;34m)\u001b[0m\u001b[0;34m\u001b[0m\u001b[0;34m\u001b[0m\u001b[0m\n\u001b[0m\u001b[1;32m    202\u001b[0m     \u001b[0;32mexcept\u001b[0m \u001b[0;34m(\u001b[0m\u001b[0mTypeError\u001b[0m\u001b[0;34m,\u001b[0m \u001b[0mValueError\u001b[0m\u001b[0;34m)\u001b[0m\u001b[0;34m:\u001b[0m\u001b[0;34m\u001b[0m\u001b[0;34m\u001b[0m\u001b[0m\n\u001b[1;32m    203\u001b[0m       \u001b[0;31m# Note: convert_to_eager_tensor currently raises a ValueError, not a\u001b[0m\u001b[0;34m\u001b[0m\u001b[0;34m\u001b[0m\u001b[0;34m\u001b[0m\u001b[0m\n",
            "\u001b[0;32m/usr/local/lib/python3.6/dist-packages/tensorflow/python/keras/activations.py\u001b[0m in \u001b[0;36mdeserialize\u001b[0;34m(name, custom_objects)\u001b[0m\n\u001b[1;32m    490\u001b[0m       \u001b[0mmodule_objects\u001b[0m\u001b[0;34m=\u001b[0m\u001b[0mglobals\u001b[0m\u001b[0;34m(\u001b[0m\u001b[0;34m)\u001b[0m\u001b[0;34m,\u001b[0m\u001b[0;34m\u001b[0m\u001b[0;34m\u001b[0m\u001b[0m\n\u001b[1;32m    491\u001b[0m       \u001b[0mcustom_objects\u001b[0m\u001b[0;34m=\u001b[0m\u001b[0mcustom_objects\u001b[0m\u001b[0;34m,\u001b[0m\u001b[0;34m\u001b[0m\u001b[0;34m\u001b[0m\u001b[0m\n\u001b[0;32m--> 492\u001b[0;31m       printable_module_name='activation function')\n\u001b[0m\u001b[1;32m    493\u001b[0m \u001b[0;34m\u001b[0m\u001b[0m\n\u001b[1;32m    494\u001b[0m \u001b[0;34m\u001b[0m\u001b[0m\n",
            "\u001b[0;32m/usr/local/lib/python3.6/dist-packages/tensorflow/python/keras/utils/generic_utils.py\u001b[0m in \u001b[0;36mdeserialize_keras_object\u001b[0;34m(identifier, module_objects, custom_objects, printable_module_name)\u001b[0m\n\u001b[1;32m    376\u001b[0m       \u001b[0;32mif\u001b[0m \u001b[0mobj\u001b[0m \u001b[0;32mis\u001b[0m \u001b[0;32mNone\u001b[0m\u001b[0;34m:\u001b[0m\u001b[0;34m\u001b[0m\u001b[0;34m\u001b[0m\u001b[0m\n\u001b[1;32m    377\u001b[0m         raise ValueError(\n\u001b[0;32m--> 378\u001b[0;31m             'Unknown ' + printable_module_name + ': ' + object_name)\n\u001b[0m\u001b[1;32m    379\u001b[0m     \u001b[0;31m# Classes passed by name are instantiated with no args, functions are\u001b[0m\u001b[0;34m\u001b[0m\u001b[0;34m\u001b[0m\u001b[0;34m\u001b[0m\u001b[0m\n\u001b[1;32m    380\u001b[0m     \u001b[0;31m# returned as-is.\u001b[0m\u001b[0;34m\u001b[0m\u001b[0;34m\u001b[0m\u001b[0;34m\u001b[0m\u001b[0m\n",
            "\u001b[0;31mValueError\u001b[0m: Unknown activation function: lrelu"
          ]
        }
      ]
    },
    {
      "cell_type": "code",
      "metadata": {
        "id": "Phv7DwQK1iRM",
        "colab_type": "code",
        "colab": {
          "base_uri": "https://localhost:8080/",
          "height": 544
        },
        "outputId": "40f6c0a7-8c20-473e-c99a-e5424c9a4341"
      },
      "source": [
        "model.compile(\n",
        "    optimizer = 'adam',\n",
        "    loss = 'categorical_crossentropy',\n",
        "    metrics = ['accuracy']\n",
        ")\n",
        "\n",
        "model.summary()"
      ],
      "execution_count": null,
      "outputs": [
        {
          "output_type": "stream",
          "text": [
            "Model: \"sequential_4\"\n",
            "_________________________________________________________________\n",
            "Layer (type)                 Output Shape              Param #   \n",
            "=================================================================\n",
            "dense_41 (Dense)             (None, 512)               5632      \n",
            "_________________________________________________________________\n",
            "dense_42 (Dense)             (None, 512)               262656    \n",
            "_________________________________________________________________\n",
            "dense_43 (Dense)             (None, 512)               262656    \n",
            "_________________________________________________________________\n",
            "dense_44 (Dense)             (None, 512)               262656    \n",
            "_________________________________________________________________\n",
            "dense_45 (Dense)             (None, 512)               262656    \n",
            "_________________________________________________________________\n",
            "dense_46 (Dense)             (None, 512)               262656    \n",
            "_________________________________________________________________\n",
            "dense_47 (Dense)             (None, 512)               262656    \n",
            "_________________________________________________________________\n",
            "dense_48 (Dense)             (None, 512)               262656    \n",
            "_________________________________________________________________\n",
            "dense_49 (Dense)             (None, 512)               262656    \n",
            "_________________________________________________________________\n",
            "dense_50 (Dense)             (None, 512)               262656    \n",
            "_________________________________________________________________\n",
            "dense_51 (Dense)             (None, 4)                 2052      \n",
            "=================================================================\n",
            "Total params: 2,371,588\n",
            "Trainable params: 2,371,588\n",
            "Non-trainable params: 0\n",
            "_________________________________________________________________\n"
          ],
          "name": "stdout"
        }
      ]
    },
    {
      "cell_type": "code",
      "metadata": {
        "id": "wwsZAVPd1iRP",
        "colab_type": "code",
        "colab": {
          "base_uri": "https://localhost:8080/",
          "height": 1000
        },
        "outputId": "1b372e3f-6514-4bdb-aa90-9ec760f2fa56"
      },
      "source": [
        "h = model.fit(\n",
        "    x_train_norm,\n",
        "    y_train_encoded,\n",
        "    batch_size = 4096,\n",
        "    epochs = 50\n",
        ")"
      ],
      "execution_count": null,
      "outputs": [
        {
          "output_type": "stream",
          "text": [
            "Epoch 1/50\n",
            "5/5 [==============================] - 4s 729ms/step - loss: 1.2392 - accuracy: 0.3304\n",
            "Epoch 2/50\n",
            "5/5 [==============================] - 4s 728ms/step - loss: 1.0851 - accuracy: 0.3379\n",
            "Epoch 3/50\n",
            "5/5 [==============================] - 4s 729ms/step - loss: 0.9800 - accuracy: 0.4089\n",
            "Epoch 4/50\n",
            "5/5 [==============================] - 4s 731ms/step - loss: 0.8532 - accuracy: 0.5931\n",
            "Epoch 5/50\n",
            "5/5 [==============================] - 4s 729ms/step - loss: 0.7345 - accuracy: 0.6025\n",
            "Epoch 6/50\n",
            "5/5 [==============================] - 4s 728ms/step - loss: 0.7073 - accuracy: 0.6041\n",
            "Epoch 7/50\n",
            "5/5 [==============================] - 4s 729ms/step - loss: 0.6819 - accuracy: 0.6081\n",
            "Epoch 8/50\n",
            "5/5 [==============================] - 4s 731ms/step - loss: 0.6501 - accuracy: 0.6271\n",
            "Epoch 9/50\n",
            "5/5 [==============================] - 4s 728ms/step - loss: 0.5922 - accuracy: 0.6392\n",
            "Epoch 10/50\n",
            "5/5 [==============================] - 4s 728ms/step - loss: 0.5872 - accuracy: 0.6615\n",
            "Epoch 11/50\n",
            "5/5 [==============================] - 4s 731ms/step - loss: 0.5593 - accuracy: 0.6784\n",
            "Epoch 12/50\n",
            "5/5 [==============================] - 4s 728ms/step - loss: 0.5415 - accuracy: 0.6794\n",
            "Epoch 13/50\n",
            "5/5 [==============================] - 4s 728ms/step - loss: 0.5162 - accuracy: 0.7259\n",
            "Epoch 14/50\n",
            "5/5 [==============================] - 4s 727ms/step - loss: 0.5058 - accuracy: 0.7361\n",
            "Epoch 15/50\n",
            "5/5 [==============================] - 4s 730ms/step - loss: 0.4968 - accuracy: 0.7612\n",
            "Epoch 16/50\n",
            "5/5 [==============================] - 4s 726ms/step - loss: 0.4632 - accuracy: 0.7785\n",
            "Epoch 17/50\n",
            "5/5 [==============================] - 4s 732ms/step - loss: 0.4410 - accuracy: 0.7893\n",
            "Epoch 18/50\n",
            "5/5 [==============================] - 4s 730ms/step - loss: 0.4346 - accuracy: 0.7978\n",
            "Epoch 19/50\n",
            "5/5 [==============================] - 4s 730ms/step - loss: 0.4128 - accuracy: 0.8158\n",
            "Epoch 20/50\n",
            "5/5 [==============================] - 4s 727ms/step - loss: 0.4020 - accuracy: 0.8238\n",
            "Epoch 21/50\n",
            "5/5 [==============================] - 4s 729ms/step - loss: 0.3838 - accuracy: 0.8394\n",
            "Epoch 22/50\n",
            "5/5 [==============================] - 4s 728ms/step - loss: 0.3729 - accuracy: 0.8476\n",
            "Epoch 23/50\n",
            "5/5 [==============================] - 4s 729ms/step - loss: 0.4049 - accuracy: 0.8263\n",
            "Epoch 24/50\n",
            "5/5 [==============================] - 4s 730ms/step - loss: 0.4029 - accuracy: 0.8317\n",
            "Epoch 25/50\n",
            "5/5 [==============================] - 4s 731ms/step - loss: 0.3795 - accuracy: 0.8447\n",
            "Epoch 26/50\n",
            "5/5 [==============================] - 4s 730ms/step - loss: 0.3641 - accuracy: 0.8519\n",
            "Epoch 27/50\n",
            "5/5 [==============================] - 4s 729ms/step - loss: 0.3540 - accuracy: 0.8589\n",
            "Epoch 28/50\n",
            "5/5 [==============================] - 4s 735ms/step - loss: 0.3486 - accuracy: 0.8630\n",
            "Epoch 29/50\n",
            "5/5 [==============================] - 4s 733ms/step - loss: 0.3440 - accuracy: 0.8619\n",
            "Epoch 30/50\n",
            "5/5 [==============================] - 4s 730ms/step - loss: 0.3330 - accuracy: 0.8674\n",
            "Epoch 31/50\n",
            "5/5 [==============================] - 4s 728ms/step - loss: 0.3304 - accuracy: 0.8687\n",
            "Epoch 32/50\n",
            "5/5 [==============================] - 4s 735ms/step - loss: 0.3231 - accuracy: 0.8716\n",
            "Epoch 33/50\n",
            "5/5 [==============================] - 4s 731ms/step - loss: 0.3239 - accuracy: 0.8716\n",
            "Epoch 34/50\n",
            "5/5 [==============================] - 4s 736ms/step - loss: 0.3265 - accuracy: 0.8692\n",
            "Epoch 35/50\n",
            "5/5 [==============================] - 4s 738ms/step - loss: 0.3251 - accuracy: 0.8712\n",
            "Epoch 36/50\n",
            "5/5 [==============================] - 4s 738ms/step - loss: 0.3150 - accuracy: 0.8763\n",
            "Epoch 37/50\n",
            "5/5 [==============================] - 4s 732ms/step - loss: 0.3011 - accuracy: 0.8821\n",
            "Epoch 38/50\n",
            "5/5 [==============================] - 4s 725ms/step - loss: 0.3006 - accuracy: 0.8823\n",
            "Epoch 39/50\n",
            "5/5 [==============================] - 4s 729ms/step - loss: 0.3014 - accuracy: 0.8813\n",
            "Epoch 40/50\n",
            "5/5 [==============================] - 4s 729ms/step - loss: 0.3036 - accuracy: 0.8809\n",
            "Epoch 41/50\n",
            "5/5 [==============================] - 4s 729ms/step - loss: 0.3037 - accuracy: 0.8792\n",
            "Epoch 42/50\n",
            "5/5 [==============================] - 4s 726ms/step - loss: 0.3024 - accuracy: 0.8827\n",
            "Epoch 43/50\n",
            "5/5 [==============================] - 4s 731ms/step - loss: 0.3023 - accuracy: 0.8813\n",
            "Epoch 44/50\n",
            "5/5 [==============================] - 4s 726ms/step - loss: 0.2958 - accuracy: 0.8853\n",
            "Epoch 45/50\n",
            "5/5 [==============================] - 4s 728ms/step - loss: 0.2918 - accuracy: 0.8856\n",
            "Epoch 46/50\n",
            "5/5 [==============================] - 4s 730ms/step - loss: 0.2909 - accuracy: 0.8861\n",
            "Epoch 47/50\n",
            "5/5 [==============================] - 4s 728ms/step - loss: 0.2904 - accuracy: 0.8871\n",
            "Epoch 48/50\n",
            "5/5 [==============================] - 4s 729ms/step - loss: 0.2903 - accuracy: 0.8861\n",
            "Epoch 49/50\n",
            "5/5 [==============================] - 4s 731ms/step - loss: 0.2927 - accuracy: 0.8860\n",
            "Epoch 50/50\n",
            "5/5 [==============================] - 4s 731ms/step - loss: 0.2951 - accuracy: 0.8834\n"
          ],
          "name": "stdout"
        }
      ]
    },
    {
      "cell_type": "code",
      "metadata": {
        "id": "Bnsp022V1iRR",
        "colab_type": "code",
        "colab": {
          "base_uri": "https://localhost:8080/",
          "height": 72
        },
        "outputId": "7e994bc3-c43c-433e-dec3-a922cc5fde66"
      },
      "source": [
        "loss, accuracy = model.evaluate(x_test_norm)\n",
        "\n",
        "print('test set accuracy: ', accuracy * 100)"
      ],
      "execution_count": null,
      "outputs": [
        {
          "output_type": "stream",
          "text": [
            "313/313 [==============================] - 0s 612us/step - loss: 0.0000e+00 - accuracy: 0.0000e+00\n",
            "test set accuracy:  0.0\n"
          ],
          "name": "stdout"
        }
      ]
    },
    {
      "cell_type": "code",
      "metadata": {
        "id": "iq2LrOSG1iRT",
        "colab_type": "code",
        "colab": {}
      },
      "source": [
        "preds = model.predict(x_test_norm)\n",
        "pred = np.argmax(preds,axis = 1).reshape(10000,1)\n",
        "id = np.arange(1,10001).reshape(10000,1)\n",
        "prediction = np.concatenate((id, pred),axis=1)\n",
        "\n",
        "import csv   \n",
        "      \n",
        "# field names   \n",
        "fields = ['Id', 'Predicted Label']  \n",
        "\n",
        "filename = \"submission.csv\"\n",
        "      \n",
        "# writing to csv file   \n",
        "with open(filename, 'w') as csvfile:   \n",
        "    # creating a csv writer object   \n",
        "    csvwriter = csv.writer(csvfile)   \n",
        "          \n",
        "    # writing the fields   \n",
        "    csvwriter.writerow(fields)   \n",
        "          \n",
        "    # writing the data rows   \n",
        "    csvwriter.writerows(prediction) "
      ],
      "execution_count": null,
      "outputs": []
    },
    {
      "cell_type": "code",
      "metadata": {
        "id": "VigfVFDsBrvm",
        "colab_type": "code",
        "colab": {}
      },
      "source": [
        ""
      ],
      "execution_count": null,
      "outputs": []
    }
  ]
}